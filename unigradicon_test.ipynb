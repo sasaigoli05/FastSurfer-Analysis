{
 "cells": [
  {
   "cell_type": "code",
   "execution_count": null,
   "metadata": {},
   "outputs": [],
   "source": [
    "import numpy as np\n",
    "import itk\n",
    "import matplotlib.pyplot as plt\n",
    "target_path = \"RegLib_C01_1.nrrd\"\n",
    "source_path = \"RegLib_C01_2.nrrd\"\n",
    "\n",
    "target_itk = itk.imread(target_path)\n",
    "target_meta = dict(target_itk)\n",
    "target = np.asarray(target_itk)\n",
    "print(f\"Target shape: {target.shape}\")\n",
    "print(f\"Target spacing: {target_meta['spacing']}\")\n",
    "print(f\"Target direction: {target_meta['direction']}\")\n",
    "\n",
    "source_itk = itk.imread(source_path)\n",
    "source_meta = dict(source_itk)\n",
    "source = np.asarray(source_itk)\n",
    "print(f\"Source shape: {source.shape}\")\n",
    "print(f\"Source spacing: {source_meta['spacing']}\")\n",
    "print(f\"Source direction: {source_meta['direction']}\")\n",
    "\n",
    "# Check whether the orientation of the images are the same.\n",
    "assert np.array_equal(dict(target_itk)[\"direction\"], dict(source_itk)[\"direction\"]), \"The orientation of source and target images need to be the same.\"\n",
    "\n",
    "fig, axes = plt.subplots(1,2)\n",
    "axes[0].imshow(source[100])\n",
    "axes[0].set_title('Source')\n",
    "axes[1].imshow(target[100])\n",
    "axes[1].set_title('Target')\n",
    "plt.show()\n"
   ]
  },
  {
   "cell_type": "code",
   "execution_count": null,
   "metadata": {},
   "outputs": [],
   "source": [
    "# Processing images\n",
    "import torch\n",
    "import torch.nn.functional as F\n",
    "def preprocess(img, type=\"ct\"):\n",
    "  if type == \"ct\":\n",
    "    clamp = [-1000, 1000]\n",
    "    img = (torch.clamp(img, clamp[0], clamp[1]) - clamp[0])/(clamp[1]-clamp[0])\n",
    "    return F.interpolate(img, [175, 175, 175], mode=\"trilinear\", align_corners=False)\n",
    "  elif type == \"mri\":\n",
    "    im_min, im_max = torch.min(img), torch.quantile(img.view(-1), 0.99)\n",
    "    img = torch.clip(img, im_min, im_max)\n",
    "    img = (img-im_min) / (im_max-im_min)\n",
    "    return F.interpolate(img, [175, 175, 175], mode=\"trilinear\", align_corners=False)\n",
    "  else:\n",
    "    print(f\"Error: Do not support the type {type}\")\n",
    "    return img\n",
    "\n",
    "target = preprocess(torch.Tensor(np.array(target)).unsqueeze(0).unsqueeze(0), type=\"mri\")\n",
    "source = preprocess(torch.Tensor(np.array(source)).unsqueeze(0).unsqueeze(0), type=\"mri\")"
   ]
  },
  {
   "cell_type": "code",
   "execution_count": null,
   "metadata": {},
   "outputs": [],
   "source": [
    "from unigradicon import get_unigradicon\n",
    "net = get_unigradicon()\n",
    "net.cuda()\n",
    "net.eval()\n",
    "print()"
   ]
  },
  {
   "cell_type": "code",
   "execution_count": null,
   "metadata": {},
   "outputs": [],
   "source": [
    "with torch.no_grad():\n",
    "  net(source.cuda(), target.cuda())"
   ]
  },
  {
   "cell_type": "code",
   "execution_count": null,
   "metadata": {},
   "outputs": [],
   "source": [
    "def show_as_grid_contour(ax, phi, linewidth=1, stride=8, flip=False):\n",
    "    data_size = phi.size()[1:]\n",
    "    plot_phi = phi.cpu() - 0.5\n",
    "    N = plot_phi.size()[-1]\n",
    "    ax.contour(plot_phi[1], np.linspace(0, N, int(N/stride)), linewidths=linewidth, alpha=0.8)\n",
    "    ax.contour(plot_phi[0], np.linspace(0, N, int(N/stride)), linewidths=linewidth, alpha=0.8)\n",
    "    if flip:\n",
    "        ax.set_ylim([0, data_size[0]])\n",
    "\n",
    "def show_pair(source, target, warped, phi, axes, idx, flip=False):\n",
    "    phi_scaled = phi * (torch.tensor((175, 175, 175), dtype=torch.float32).unsqueeze(0).unsqueeze(-1).unsqueeze(-1).unsqueeze(-1)-1)\n",
    "    if flip:\n",
    "        origin = 'lower'\n",
    "    else:\n",
    "        origin = 'upper'\n",
    "    axes[0].imshow(source.cpu()[0,0,idx], cmap=\"gray\", origin=origin)\n",
    "    axes[1].imshow(target.cpu()[0,0,idx], cmap=\"gray\", origin=origin)\n",
    "    axes[2].imshow(warped.cpu()[0,0,idx], cmap=\"gray\", origin=origin)\n",
    "    axes[3].imshow(target.cpu()[0,0,idx], cmap=\"gray\", origin=origin)\n",
    "    show_as_grid_contour(axes[3], phi_scaled[0, [1,2], idx], linewidth=0.6, stride=4, flip=flip)\n",
    "    axes[4].imshow(target.cpu()[0,0,idx]-source.cpu()[0,0,idx], origin=origin)\n",
    "    axes[5].imshow(target.cpu()[0,0,idx]-warped.cpu()[0,0,idx], origin=origin)"
   ]
  },
  {
   "cell_type": "code",
   "execution_count": null,
   "metadata": {},
   "outputs": [],
   "source": [
    "fig, axes = plt.subplots(1, 6, figsize=(12,2))\n",
    "show_pair(source, target, net.warped_image_A, net.phi_AB_vectorfield.cpu(), axes, 100)\n",
    "\n",
    "font_size = 10\n",
    "axes[0].set_title('Source', fontsize=font_size)\n",
    "axes[1].set_title('Target', fontsize=font_size)\n",
    "axes[2].set_title('Warped', fontsize=font_size)\n",
    "axes[3].set_title('Target+Grids', fontsize=font_size)\n",
    "axes[4].set_title('Difference Before', fontsize=font_size)\n",
    "axes[5].set_title('Difference After', fontsize=font_size)\n",
    "for axe in axes:\n",
    "  axe.set_xticks([])\n",
    "  axe.set_yticks([])\n",
    "plt.show()"
   ]
  }
 ],
 "metadata": {
  "language_info": {
   "name": "python"
  }
 },
 "nbformat": 4,
 "nbformat_minor": 2
}
